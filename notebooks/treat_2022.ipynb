{
 "cells": [
  {
   "cell_type": "code",
   "execution_count": 1,
   "metadata": {},
   "outputs": [],
   "source": [
    "import pandas as pd\n",
    "import geopandas as gpd\n",
    "import geobr"
   ]
  },
  {
   "cell_type": "code",
   "execution_count": 2,
   "metadata": {},
   "outputs": [
    {
     "name": "stderr",
     "output_type": "stream",
     "text": [
      "/var/folders/d9/_9rrlqns6mb8xlw_314gg7480000gn/T/ipykernel_4656/3603281110.py:2: DtypeWarning: Columns (1,4,6,9,11,14,19,41,42,46,51,52,55,56,62,66,69,75,81,84,94) have mixed types. Specify dtype option on import or set low_memory=False.\n",
      "  df = pd.read_csv('../data/censo2022/raw/censo.csv', sep=\";\")\n"
     ]
    }
   ],
   "source": [
    "# Read the census data from CSV and geographic sectors from GPKG\n",
    "df = pd.read_csv('../data/censo2022/raw/censo.csv', sep=\";\")\n",
    "setores = gpd.read_file('../data/censo2022/raw/setores.gpkg')\n",
    "\n",
    "# Dictionary mapping census column codes to race categories\n",
    "# V01317-V01321 represent counts of people by race in each census sector\n",
    "race_dict = {\n",
    "    'CD_SETOR': 'CD_SETOR',  # Census sector ID\n",
    "    'V01317': 'branca',      # White\n",
    "    'V01318': 'preta',       # Black \n",
    "    'V01319': 'amarela',     # Asian\n",
    "    'V01320': 'parda',       # Brown/Mixed\n",
    "    'V01321': 'indigena'     # Indigenous\n",
    "}\n",
    "\n",
    "# Select only the race columns we need and rename them\n",
    "df = df[race_dict.keys()]\n",
    "df.columns = race_dict.values()\n",
    "\n",
    "# Calculate population proportions for each race category\n",
    "race_columns = ['branca', 'preta', 'amarela', 'parda', 'indigena']\n",
    "\n",
    "# Replace 'X' with '0' to allow numeric calculations\n",
    "for col in race_columns:\n",
    "    df[col] = df[col].replace('X', '0').astype(float)\n",
    "\n",
    "# Calculate total population for each setor\n",
    "df['populacao'] = df[race_columns].sum(axis=1)\n",
    "\n",
    "# Convert setor ID to string to match df index\n",
    "setores['CD_SETOR'] = setores['CD_SETOR'].astype(str)\n",
    "df['CD_SETOR'] = df['CD_SETOR'].astype(str)\n",
    "\n",
    "# Merge demographic data with spatial data\n",
    "gdf = setores.merge(df, on='CD_SETOR', how='left')\n",
    "\n",
    "# Select columns for races dataframe and rename to match docs specification\n",
    "gdf = gdf[['geometry', 'CD_UF', 'CD_SETOR', 'CD_MUN', 'NM_MUN', 'populacao'] + race_columns]\n",
    "gdf = gdf.rename(columns={\n",
    "    'CD_UF': 'sigla_uf', \n",
    "    'CD_SETOR': 'id_setor_censitario',\n",
    "    'CD_MUN': 'id_municipio'\n",
    "})\n",
    "\n",
    "# Create mapping of state codes to abbreviations\n",
    "state_codes = {\n",
    "    11: 'RO', 12: 'AC', 13: 'AM', 14: 'RR', 15: 'PA', 16: 'AP', 17: 'TO',\n",
    "    21: 'MA', 22: 'PI', 23: 'CE', 24: 'RN', 25: 'PB', 26: 'PE', 27: 'AL', 28: 'SE', 29: 'BA',\n",
    "    31: 'MG', 32: 'ES', 33: 'RJ', 35: 'SP',\n",
    "    41: 'PR', 42: 'SC', 43: 'RS',\n",
    "    50: 'MS', 51: 'MT', 52: 'GO', 53: 'DF'\n",
    "}\n",
    "\n",
    "# Replace state codes with abbreviations using the state_codes mapping\n",
    "gdf['sigla_uf'] = gdf['sigla_uf'].astype(int).map(state_codes)\n",
    "\n"
   ]
  },
  {
   "cell_type": "code",
   "execution_count": 3,
   "metadata": {},
   "outputs": [],
   "source": [
    "municipalities = geobr.read_municipality()\n",
    "\n",
    "# Create municipality level GeoJSON from municipalities dataframe\n",
    "municipalities = municipalities.rename(columns={\n",
    "    'code_muni': 'id_municipio',\n",
    "    'name_muni': 'municipio'\n",
    "})\n",
    "\n",
    "municipalities = municipalities[['id_municipio', 'municipio', 'geometry']]\n",
    "\n",
    "# Merge demographic data aggregated by municipality\n",
    "mun_agg = gdf.groupby(['sigla_uf', 'id_municipio']).agg({\n",
    "    'branca': 'sum',\n",
    "    'preta': 'sum', \n",
    "    'amarela': 'sum',\n",
    "    'parda': 'sum',\n",
    "    'indigena': 'sum',\n",
    "    'populacao': 'sum'\n",
    "}).reset_index()\n",
    "\n",
    "# Convert IDs to same type (float) to ensure proper merging\n",
    "municipalities['id_municipio'] = municipalities['id_municipio'].astype(float)\n",
    "mun_agg['id_municipio'] = mun_agg['id_municipio'].astype(float)\n",
    "\n",
    "\n",
    "municipalities = municipalities.merge(mun_agg, on='id_municipio', how='left')"
   ]
  },
  {
   "cell_type": "code",
   "execution_count": 4,
   "metadata": {},
   "outputs": [],
   "source": [
    "# Save individual state files\n",
    "for state in municipalities['sigla_uf'].unique():\n",
    "\n",
    "    if state != 'AC':\n",
    "        continue\n",
    "    # Filter and save municipality data by state\n",
    "    state_mun = municipalities[municipalities['sigla_uf'] == state]\n",
    "    state_mun.to_file(f'../data/censo2022/output/tiles/race/municipality_{state}.geojson', driver='GeoJSON')\n",
    "    \n",
    "    # Filter and save census tract data by state\n",
    "    state_tract = gdf[gdf['sigla_uf'] == state]\n",
    "    state_tract.to_file(f'../data/censo2022/output/tiles/race/census_tract_{state}.geojson', driver='GeoJSON')"
   ]
  },
  {
   "cell_type": "code",
   "execution_count": 5,
   "metadata": {},
   "outputs": [],
   "source": [
    "municipalities.to_file(f'../data/censo2022/output/tiles/race/municipality_BR.geojson', driver='GeoJSON')\n",
    "gdf.to_file(f'../data/censo2022/output/tiles/race/census_tract_BR.geojson', driver='GeoJSON')"
   ]
  },
  {
   "cell_type": "code",
   "execution_count": 20,
   "metadata": {},
   "outputs": [
    {
     "ename": "",
     "evalue": "",
     "output_type": "error",
     "traceback": [
      "\u001b[1;31mCannot execute code, session has been disposed. Please try restarting the Kernel."
     ]
    },
    {
     "ename": "",
     "evalue": "",
     "output_type": "error",
     "traceback": [
      "\u001b[1;31mCannot execute code, session has been disposed. Please try restarting the Kernel. \n",
      "\u001b[1;31mView Jupyter <a href='command:jupyter.viewOutput'>log</a> for further details."
     ]
    }
   ],
   "source": [
    "# Save full datasets and individual state files\n",
    "municipalities.to_file('../data/censo2022/output/tiles/race/municipality.geojson', driver='GeoJSON')\n",
    "gdf.to_file('../data/censo2022/output/tiles/race/census_tract.geojson', driver='GeoJSON')\n",
    "\n",
    "\n"
   ]
  }
 ],
 "metadata": {
  "kernelspec": {
   "display_name": ".venv",
   "language": "python",
   "name": "python3"
  },
  "language_info": {
   "codemirror_mode": {
    "name": "ipython",
    "version": 3
   },
   "file_extension": ".py",
   "mimetype": "text/x-python",
   "name": "python",
   "nbconvert_exporter": "python",
   "pygments_lexer": "ipython3",
   "version": "3.12.5"
  }
 },
 "nbformat": 4,
 "nbformat_minor": 2
}
